{
 "cells": [
  {
   "cell_type": "code",
   "execution_count": 1,
   "metadata": {},
   "outputs": [],
   "source": [
    "\n",
    "import pandas as pd\n",
    "import numpy as np\n",
    "import matplotlib.pyplot as plt\n",
    "import scienceplots\n",
    "import warnings\n",
    "warnings.filterwarnings(\"ignore\") # ignore warnings: DeprecatedWarning: bc of k_shot being a string not an int\n",
    "\n",
    "plt.style.use(['science','ieee'])\n",
    "# plt.style.use(['science','notebook'])\n",
    "# plt.style.use('science')\n",
    "\n",
    "from utils.utils import BASE_PATH"
   ]
  },
  {
   "cell_type": "code",
   "execution_count": 2,
   "metadata": {},
   "outputs": [],
   "source": [
    "# Load the results\n",
    "\n",
    "mac_best_data = pd.read_hdf(BASE_PATH + 'results/deducts/best_data_df.h5', 'df')\n",
    "mac_last_data = pd.read_hdf(BASE_PATH + 'results/deducts/last_data_df.h5', 'df')\n",
    "mac_hist_data = pd.read_hdf(BASE_PATH + 'results/deducts/hist_data_df.h5', 'df')\n",
    "\n",
    "tower_best_data = pd.read_hdf(BASE_PATH + 'results/deducts/tower_best_data_df.h5', 'df')\n",
    "tower_last_data = pd.read_hdf(BASE_PATH + 'results/deducts/tower_last_data_df.h5', 'df')\n",
    "tower_hist_data = pd.read_hdf(BASE_PATH + 'results/deducts/tower_hist_data_df.h5', 'df')\n",
    "\n",
    "\n",
    "best_data = pd.concat([mac_best_data, tower_best_data])\n",
    "last_data = pd.concat([mac_last_data, tower_last_data])\n",
    "hist_data = pd.concat([mac_hist_data, tower_hist_data])"
   ]
  },
  {
   "cell_type": "code",
   "execution_count": null,
   "metadata": {},
   "outputs": [],
   "source": [
    "hist_data"
   ]
  }
 ],
 "metadata": {
  "kernelspec": {
   "display_name": "Python 3",
   "language": "python",
   "name": "python3"
  },
  "language_info": {
   "codemirror_mode": {
    "name": "ipython",
    "version": 3
   },
   "file_extension": ".py",
   "mimetype": "text/x-python",
   "name": "python",
   "nbconvert_exporter": "python",
   "pygments_lexer": "ipython3",
   "version": "3.10.8"
  },
  "orig_nbformat": 4
 },
 "nbformat": 4,
 "nbformat_minor": 2
}
