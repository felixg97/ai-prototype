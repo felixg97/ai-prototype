{
 "cells": [
  {
   "cell_type": "code",
   "execution_count": null,
   "metadata": {},
   "outputs": [],
   "source": []
  },
  {
   "cell_type": "code",
   "execution_count": null,
   "metadata": {},
   "outputs": [],
   "source": [
    "import tensorflow as tf \n",
    "\n",
    "\n",
    "from sklearn.model_selection import train_test_split\n",
    "\n",
    "# custom\n",
    "from utils.utils import load_local_dataset, preload_from_directory_old\n"
   ]
  },
  {
   "cell_type": "markdown",
   "metadata": {},
   "source": []
  },
  {
   "cell_type": "code",
   "execution_count": null,
   "metadata": {},
   "outputs": [],
   "source": [
    "path = \"/Users/felixgerschner/git/ai-prototype/data/target/mechanicalseals_fulllight\"\n",
    "\n",
    "X, y = load_local_dataset(path, target_size=(350, 350))\n",
    "\n",
    "X = X[:1]\n",
    "y = y[:1]"
   ]
  },
  {
   "cell_type": "code",
   "execution_count": null,
   "metadata": {},
   "outputs": [],
   "source": [
    "from models.tf_models.VGG16_model import VGG16_model\n",
    "\n",
    "\n",
    "model = VGG16_model(\"imagenet\", input_shape=(350, 350, 3), \n",
    "                num_classes=2, build_pre_model=True)\n",
    "\n",
    "model.fit_and_save_pre_model(X, y)"
   ]
  },
  {
   "cell_type": "code",
   "execution_count": null,
   "metadata": {},
   "outputs": [],
   "source": [
    "from models.tf_models.ResNet101_model import ResNet101_model\n",
    "\n",
    "\n",
    "model = ResNet101_model(\"imagenet\", input_shape=(350, 350, 3), \n",
    "                num_classes=2, build_pre_model=True)\n",
    "\n",
    "model.fit_and_save_pre_model(X, y)"
   ]
  },
  {
   "cell_type": "code",
   "execution_count": null,
   "metadata": {},
   "outputs": [],
   "source": [
    "from models.tf_models.DenseNet121_model import DenseNet121_model\n",
    "\n",
    "\n",
    "model = DenseNet121_model(\"imagenet\", input_shape=(350, 350, 3), \n",
    "                num_classes=2, build_pre_model=True)\n",
    "\n",
    "model.fit_and_save_pre_model(X, y)"
   ]
  },
  {
   "cell_type": "code",
   "execution_count": null,
   "metadata": {},
   "outputs": [],
   "source": [
    "from models.tf_models.MobileNet_model import MobileNet_model\n",
    "\n",
    "\n",
    "model = MobileNet_model(\"mechanicalseal_fulllight\", input_shape=(350, 350, 3), \n",
    "                num_classes=2, build_pre_model=True)\n",
    "\n",
    "model.fit_and_save_pre_model(X, y)"
   ]
  },
  {
   "cell_type": "code",
   "execution_count": null,
   "metadata": {},
   "outputs": [],
   "source": [
    "# import matplotlib.pyplot as plt\n",
    "\n",
    "# plt.imshow(X[2], cmap=\"binary\")\n",
    "# plt.show()"
   ]
  },
  {
   "cell_type": "code",
   "execution_count": null,
   "metadata": {},
   "outputs": [],
   "source": [
    "# from tensorflow.keras.applications.vgg16 import VGG16\n",
    "\n",
    "# model = VGG16(weights=\"imagenet\", include_top=True)\n",
    "\n",
    "# model.summary()"
   ]
  },
  {
   "cell_type": "code",
   "execution_count": null,
   "metadata": {},
   "outputs": [],
   "source": []
  },
  {
   "cell_type": "code",
   "execution_count": 7,
   "metadata": {},
   "outputs": [
    {
     "name": "stdout",
     "output_type": "stream",
     "text": [
      "Dataset loaded: 181 images, 2 classes (shape: (181, 350, 350, 3))\n",
      "Train-Test-Split done: (350, 350, 3) train size, (350, 350, 3) test size)\n"
     ]
    }
   ],
   "source": [
    "import tensorflow as tf \n",
    "\n",
    "\n",
    "from sklearn.model_selection import train_test_split\n",
    "\n",
    "# custom\n",
    "from utils.utils import load_local_dataset, load_local_dataset_train_test, preload_from_directory_old\n",
    "\n",
    "# path = \"/Users/felixgerschner/git/ai-prototype/data/source/miniimagenet\" # CRASHES KERNEL\n",
    "# path = \"/Users/felixgerschner/git/ai-prototype/data/source/caltech101\" # Works\n",
    "# path = \"/Users/felixgerschner/git/ai-prototype/data/source/dagm\" # Works\n",
    "# path = \"/Users/felixgerschner/git/ai-prototype/data/target/mechanicalseals_fulllight\" # Works\n",
    "\n",
    "# X, y = load_local_dataset(path, \".JPEG\", input_shape=None) # CRASHES KERNEL\n",
    "# X, y = load_local_dataset(path, \".jpg\", input_shape=(350, 350))\n",
    "# X, y = load_local_dataset(path, \".PNG\", input_shape=(350, 350))\n",
    "# X, y = load_local_dataset(path, \".png\", input_shape=(350, 350))\n",
    "# X_train, y_train, X_test, y_test = load_local_dataset_train_test(path, \".png\", input_shape=(350, 350))\n",
    "\n"
   ]
  },
  {
   "cell_type": "code",
   "execution_count": 8,
   "metadata": {},
   "outputs": [
    {
     "data": {
      "text/plain": [
       "((144, 350, 350, 3), ' ', (37, 350, 350, 3))"
      ]
     },
     "execution_count": 8,
     "metadata": {},
     "output_type": "execute_result"
    }
   ],
   "source": [
    "# X.shape\n",
    "X_train.shape, \" \", X_test.shape"
   ]
  },
  {
   "cell_type": "code",
   "execution_count": null,
   "metadata": {},
   "outputs": [],
   "source": []
  },
  {
   "cell_type": "code",
   "execution_count": null,
   "metadata": {},
   "outputs": [],
   "source": [
    "import matplotlib.pyplot as plt\n",
    "\n",
    "plt.imshow(X[2523].astype(\"uint8\"))\n",
    "plt.show()\n",
    "y[2523]"
   ]
  },
  {
   "cell_type": "code",
   "execution_count": null,
   "metadata": {},
   "outputs": [],
   "source": []
  }
 ],
 "metadata": {
  "kernelspec": {
   "display_name": "Python 3",
   "language": "python",
   "name": "python3"
  },
  "language_info": {
   "codemirror_mode": {
    "name": "ipython",
    "version": 3
   },
   "file_extension": ".py",
   "mimetype": "text/x-python",
   "name": "python",
   "nbconvert_exporter": "python",
   "pygments_lexer": "ipython3",
   "version": "3.10.8"
  },
  "orig_nbformat": 4,
  "vscode": {
   "interpreter": {
    "hash": "7a1586fa20ae7adda0123f353fb2992b7c692c0cb0bab9f479772660986f9846"
   }
  }
 },
 "nbformat": 4,
 "nbformat_minor": 2
}
