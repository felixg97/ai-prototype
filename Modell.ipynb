{
 "cells": [
  {
   "cell_type": "code",
   "execution_count": 1,
   "metadata": {},
   "outputs": [],
   "source": [
    "import tensorflow as tf \n",
    "import matplotlib.pyplot as plt\n",
    "\n",
    "from sklearn.model_selection import train_test_split\n",
    "\n",
    "# custom\n",
    "from utils.utils import load_local_dataset_train_test, load_local_dataset, load_local_dataset_tf\n",
    "from utils.constants import SOURCE_DATASETS, TARGET_DATASETS\n"
   ]
  },
  {
   "cell_type": "code",
   "execution_count": null,
   "metadata": {},
   "outputs": [],
   "source": []
  },
  {
   "cell_type": "markdown",
   "metadata": {},
   "source": []
  },
  {
   "cell_type": "code",
   "execution_count": 2,
   "metadata": {},
   "outputs": [
    {
     "name": "stdout",
     "output_type": "stream",
     "text": [
      "Found 60000 files belonging to 100 classes.\n",
      "Metal device set to: Apple M1 Pro\n",
      "\n",
      "systemMemory: 32.00 GB\n",
      "maxCacheSize: 10.67 GB\n",
      "\n"
     ]
    },
    {
     "name": "stderr",
     "output_type": "stream",
     "text": [
      "2023-02-02 20:28:28.419552: I tensorflow/core/common_runtime/pluggable_device/pluggable_device_factory.cc:305] Could not identify NUMA node of platform GPU ID 0, defaulting to 0. Your kernel may not have been built with NUMA support.\n",
      "2023-02-02 20:28:28.419696: I tensorflow/core/common_runtime/pluggable_device/pluggable_device_factory.cc:271] Created TensorFlow device (/job:localhost/replica:0/task:0/device:GPU:0 with 0 MB memory) -> physical PluggableDevice (device: 0, name: METAL, pci bus id: <undefined>)\n"
     ]
    },
    {
     "data": {
      "text/plain": [
       "<ShuffleDataset element_spec=(TensorSpec(shape=(300, 300, 3), dtype=tf.float32, name=None), TensorSpec(shape=(100,), dtype=tf.float32, name=None))>"
      ]
     },
     "execution_count": 2,
     "metadata": {},
     "output_type": "execute_result"
    }
   ],
   "source": [
    "\n",
    "TARGET_SIZE = (300, 300)\n",
    "# BATCH_SIZE = 128\n",
    "BATCH_SIZE = 8\n",
    "\n",
    "dataset_name, img_format, num_classes, initial_res = TARGET_DATASETS[0]\n",
    "\n",
    "# \n",
    "# path = \"/Users/felixgerschner/git/ai-prototype/data/target/mechanicalseals_fulllight\"\n",
    "# path = \"/Users/felixgerschner/git/ai-prototype/data/source/miniimagenet\"\n",
    "# load_local_dataset_tf(path, target_size=TARGET_SIZE)\n",
    "\n",
    "\n",
    "path = \"/Users/felixgerschner/git/ai-prototype/data/source/dagm\"\n",
    "load_local_dataset_tf(path, target_size=TARGET_SIZE)\n",
    "\n",
    "\n",
    "# path = \"/Users/felixgerschner/git/ai-prototype/data/source/caltech101\"\n",
    "# load_local_dataset_tf(path, target_size=TARGET_SIZE)\n",
    "\n",
    "\n",
    "# class_names = data.class_names\n",
    "# print(class_names)\n",
    "\n",
    "# for images, labels in data.take(1):\n",
    "#     print(images.shape, \" \", labels.shape)\n",
    " \n",
    "#     print(labels[0])\n",
    "#     plt.imshow(images[10].numpy().astype(\"uint8\"))\n",
    "#     plt.axis(\"off\")\n",
    "\n",
    "\n",
    "# X, y = load_local_dataset(path, img_format, target_size=TARGET_SIZE)\n"
   ]
  },
  {
   "cell_type": "code",
   "execution_count": 3,
   "metadata": {},
   "outputs": [],
   "source": [
    "# data = tf.keras.utils.image_dataset_from_directory(\n",
    "#   path,\n",
    "#   validation_split=0.2,\n",
    "#   subset=\"training\",\n",
    "#   seed=123,\n",
    "#   image_size=TARGET_SIZE,\n",
    "#   batch_size=BATCH_SIZE,\n",
    "#   interpolation=\"area\"\n",
    "# )\n",
    "\n",
    "\n",
    "# for images, labels in data.take(1):\n",
    "#     print(images.shape, \" \", labels.shape)\n",
    " \n",
    "#     print(labels[1])\n",
    "#     plt.imshow(images[0].numpy().astype(\"uint8\"))\n",
    "#     plt.axis(\"off\")\n"
   ]
  },
  {
   "cell_type": "code",
   "execution_count": 4,
   "metadata": {},
   "outputs": [],
   "source": [
    "# plt.imshow(X[4].astype(\"uint8\"))\n",
    "# plt.axis(\"off\")\n",
    "# X[4].shape"
   ]
  },
  {
   "cell_type": "code",
   "execution_count": 5,
   "metadata": {},
   "outputs": [],
   "source": [
    "# from models.tf_models.VGG16_model import VGG16_model\n",
    "\n",
    "\n",
    "# model = VGG16_model(\"imagenet\", input_shape=(350, 350, 3), \n",
    "#                 num_classes=2, build_pre_model=True)\n",
    "\n",
    "# model.fit_and_save_pre_model(X, y)"
   ]
  },
  {
   "cell_type": "code",
   "execution_count": null,
   "metadata": {},
   "outputs": [],
   "source": []
  },
  {
   "cell_type": "code",
   "execution_count": null,
   "metadata": {},
   "outputs": [],
   "source": []
  },
  {
   "cell_type": "code",
   "execution_count": 6,
   "metadata": {},
   "outputs": [],
   "source": [
    "# from models.tf_models.ResNet101_model import ResNet101_model\n",
    "\n",
    "\n",
    "# model = ResNet101_model(\"imagenet\", input_shape=(350, 350, 3), \n",
    "#                 num_classes=2, build_pre_model=True)\n",
    "\n",
    "# model.fit_and_save_pre_model(X, y)"
   ]
  },
  {
   "cell_type": "code",
   "execution_count": 7,
   "metadata": {},
   "outputs": [],
   "source": [
    "# from models.tf_models.DenseNet121_model import DenseNet121_model\n",
    "\n",
    "\n",
    "# model = DenseNet121_model(\"imagenet\", input_shape=(350, 350, 3), \n",
    "#                 num_classes=2, build_pre_model=True)\n",
    "\n",
    "# model.fit_and_save_pre_model(X, y)"
   ]
  },
  {
   "cell_type": "code",
   "execution_count": 8,
   "metadata": {},
   "outputs": [],
   "source": [
    "# from models.tf_models.MobileNet_model import MobileNet_model\n",
    "\n",
    "\n",
    "# model = MobileNet_model(\"mechanicalseal_fulllight\", input_shape=(350, 350, 3), \n",
    "#                 num_classes=2, build_pre_model=True)\n",
    "\n",
    "# model.fit_and_save_pre_model(X, y)"
   ]
  },
  {
   "cell_type": "code",
   "execution_count": 9,
   "metadata": {},
   "outputs": [],
   "source": [
    "# import matplotlib.pyplot as plt\n",
    "\n",
    "# plt.imshow(X[2], cmap=\"binary\")\n",
    "# plt.show()"
   ]
  },
  {
   "cell_type": "code",
   "execution_count": 10,
   "metadata": {},
   "outputs": [],
   "source": [
    "# from tensorflow.keras.applications.vgg16 import VGG16\n",
    "\n",
    "# model = VGG16(weights=\"imagenet\", include_top=True)\n",
    "\n",
    "# model.summary()"
   ]
  },
  {
   "cell_type": "code",
   "execution_count": null,
   "metadata": {},
   "outputs": [],
   "source": []
  },
  {
   "cell_type": "code",
   "execution_count": 11,
   "metadata": {},
   "outputs": [],
   "source": [
    "import tensorflow as tf \n",
    "\n",
    "\n",
    "from sklearn.model_selection import train_test_split\n",
    "\n",
    "# custom\n",
    "from utils.utils import load_local_dataset, load_local_dataset_train_test, preload_from_directory_old\n",
    "\n",
    "# path = \"/Users/felixgerschner/git/ai-prototype/data/source/miniimagenet\" # CRASHES KERNEL\n",
    "# path = \"/Users/felixgerschner/git/ai-prototype/data/source/caltech101\" # Works\n",
    "# path = \"/Users/felixgerschner/git/ai-prototype/data/source/dagm\" # Works\n",
    "# path = \"/Users/felixgerschner/git/ai-prototype/data/target/mechanicalseals_fulllight\" # Works\n",
    "\n",
    "# X, y = load_local_dataset(path, \".JPEG\", input_shape=None) # CRASHES KERNEL\n",
    "# X, y = load_local_dataset(path, \".jpg\", input_shape=(350, 350))\n",
    "# X, y = load_local_dataset(path, \".PNG\", input_shape=(350, 350))\n",
    "# X, y = load_local_dataset(path, \".png\", input_shape=(350, 350))\n",
    "# X_train, y_train, X_test, y_test = load_local_dataset_train_test(path, \".png\", input_shape=(350, 350))\n",
    "\n"
   ]
  },
  {
   "cell_type": "code",
   "execution_count": 12,
   "metadata": {},
   "outputs": [
    {
     "ename": "NameError",
     "evalue": "name 'X_train' is not defined",
     "output_type": "error",
     "traceback": [
      "\u001b[0;31m---------------------------------------------------------------------------\u001b[0m",
      "\u001b[0;31mNameError\u001b[0m                                 Traceback (most recent call last)",
      "Cell \u001b[0;32mIn[12], line 2\u001b[0m\n\u001b[1;32m      1\u001b[0m \u001b[39m# X.shape\u001b[39;00m\n\u001b[0;32m----> 2\u001b[0m X_train\u001b[39m.\u001b[39mshape, \u001b[39m\"\u001b[39m\u001b[39m \u001b[39m\u001b[39m\"\u001b[39m, X_test\u001b[39m.\u001b[39mshape\n",
      "\u001b[0;31mNameError\u001b[0m: name 'X_train' is not defined"
     ]
    }
   ],
   "source": [
    "# X.shape\n",
    "X_train.shape, \" \", X_test.shape"
   ]
  },
  {
   "cell_type": "code",
   "execution_count": null,
   "metadata": {},
   "outputs": [],
   "source": []
  },
  {
   "cell_type": "code",
   "execution_count": null,
   "metadata": {},
   "outputs": [],
   "source": [
    "import matplotlib.pyplot as plt\n",
    "\n",
    "plt.imshow(X[2523].astype(\"uint8\"))\n",
    "plt.show()\n",
    "y[2523]"
   ]
  },
  {
   "cell_type": "code",
   "execution_count": null,
   "metadata": {},
   "outputs": [],
   "source": []
  }
 ],
 "metadata": {
  "kernelspec": {
   "display_name": "Python 3",
   "language": "python",
   "name": "python3"
  },
  "language_info": {
   "codemirror_mode": {
    "name": "ipython",
    "version": 3
   },
   "file_extension": ".py",
   "mimetype": "text/x-python",
   "name": "python",
   "nbconvert_exporter": "python",
   "pygments_lexer": "ipython3",
   "version": "3.10.8"
  },
  "orig_nbformat": 4,
  "vscode": {
   "interpreter": {
    "hash": "7a1586fa20ae7adda0123f353fb2992b7c692c0cb0bab9f479772660986f9846"
   }
  }
 },
 "nbformat": 4,
 "nbformat_minor": 2
}
