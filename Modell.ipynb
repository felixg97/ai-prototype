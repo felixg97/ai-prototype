{
 "cells": [
  {
   "cell_type": "code",
   "execution_count": 1,
   "metadata": {},
   "outputs": [],
   "source": [
    "import tensorflow as tf \n",
    "import tensorflow.keras as keras\n",
    "import matplotlib.pyplot as plt\n",
    "\n",
    "from tensorflow.keras.preprocessing import image\n",
    "from sklearn.model_selection import train_test_split\n",
    "\n",
    "# custom\n",
    "from utils.utils import load_local_dataset_train_test, load_local_dataset, load_local_dataset_tf, preprocess_data_per_tfmodel\n",
    "from utils.constants import SOURCE_DATASETS, TARGET_DATASETS\n"
   ]
  },
  {
   "cell_type": "code",
   "execution_count": null,
   "metadata": {},
   "outputs": [],
   "source": []
  },
  {
   "cell_type": "code",
   "execution_count": 2,
   "metadata": {},
   "outputs": [
    {
     "name": "stdout",
     "output_type": "stream",
     "text": [
      "Found 181 files belonging to 2 classes.\n",
      "Using 145 files for training.\n",
      "Metal device set to: Apple M1 Pro\n",
      "\n",
      "systemMemory: 32.00 GB\n",
      "maxCacheSize: 10.67 GB\n",
      "\n",
      "Found 181 files belonging to 2 classes.\n",
      "Using 36 files for validation.\n",
      "batches:  145\n"
     ]
    },
    {
     "name": "stderr",
     "output_type": "stream",
     "text": [
      "2023-02-05 13:10:31.147286: I tensorflow/core/common_runtime/pluggable_device/pluggable_device_factory.cc:305] Could not identify NUMA node of platform GPU ID 0, defaulting to 0. Your kernel may not have been built with NUMA support.\n",
      "2023-02-05 13:10:31.147598: I tensorflow/core/common_runtime/pluggable_device/pluggable_device_factory.cc:271] Created TensorFlow device (/job:localhost/replica:0/task:0/device:GPU:0 with 0 MB memory) -> physical PluggableDevice (device: 0, name: METAL, pci bus id: <undefined>)\n"
     ]
    }
   ],
   "source": [
    "\n",
    "TARGET_SIZE = (300, 300)\n",
    "# BATCH_SIZE = 128\n",
    "BATCH_SIZE = 8\n",
    "\n",
    "\n",
    "path = \"/Users/felixgerschner/git/ai-prototype/data/target/mechanicalseals_fulllight\"\n",
    "# path = \"/Users/felixgerschner/git/ai-prototype/data/source/miniimagenet\"\n",
    "# path = \"/Users/felixgerschner/git/ai-prototype/data/source/dagm\"\n",
    "# path = \"/Users/felixgerschner/git/ai-prototype/data/source/caltech101\"\n",
    "\n",
    "\n",
    "train = load_local_dataset_tf(path, target_size=TARGET_SIZE, subset=\"training\", batch_size=None)\n",
    "test = load_local_dataset_tf(path, target_size=TARGET_SIZE, subset=\"test\", batch_size=None)\n",
    "\n",
    "# X, y = load_local_dataset(path, \".png\", target_size=TARGET_SIZE)\n",
    "\n",
    "print(\"batches: \", train.cardinality().numpy())"
   ]
  },
  {
   "cell_type": "code",
   "execution_count": 4,
   "metadata": {},
   "outputs": [
    {
     "data": {
      "text/plain": [
       "181"
      ]
     },
     "execution_count": 4,
     "metadata": {},
     "output_type": "execute_result"
    }
   ],
   "source": [
    "train_size = train.cardinality().numpy()\n",
    "test_size = test.cardinality().numpy()\n",
    "\n",
    "train_size + test_size"
   ]
  },
  {
   "cell_type": "code",
   "execution_count": null,
   "metadata": {},
   "outputs": [],
   "source": []
  },
  {
   "cell_type": "code",
   "execution_count": null,
   "metadata": {},
   "outputs": [],
   "source": []
  },
  {
   "cell_type": "code",
   "execution_count": null,
   "metadata": {},
   "outputs": [],
   "source": [
    "import numpy as np\n",
    "\n",
    "# X = keras.applications.vgg16.preprocess_input(dataset[0])\n",
    "\n",
    "train_preprocessed = train.take(5)\n",
    "test_preprocessed = test.take(5)\n",
    "\n",
    "train_preprocessed = preprocess_data_per_tfmodel(train)\n",
    "test_preprocessed = preprocess_data_per_tfmodel(test)\n",
    "\n",
    "classes = train.class_names\n",
    "\n",
    "\n",
    "# this could also be the output a different Keras model or layer\n",
    "# input_tensor = keras.layers.Input(shape=(224, 224, 3), name=\"put it in\")\n",
    "\n",
    "base_model = keras.applications.VGG16(\n",
    "            weights=\"imagenet\",\n",
    "            input_shape=(*TARGET_SIZE, 3),\n",
    "            include_top=False,\n",
    "        )\n",
    "\n",
    "for layer in base_model.layers:\n",
    "    layer.trainable = False\n",
    "\n",
    "x = base_model.layers[-1].output\n",
    "x = keras.layers.Flatten()(x)\n",
    "x = keras.layers.Dense(32, activation=\"relu\")(x)\n",
    "x = keras.layers.Dense(32, activation=\"relu\")(x)\n",
    "\n",
    "out = keras.layers.Dense(len(classes), activation=\"softmax\", name=\"predictions\")(x)\n",
    "\n",
    "model = keras.models.Model(\n",
    "            inputs=base_model.input, \n",
    "            outputs=out)\n",
    "\n",
    "optimizer = keras.optimizers.RMSprop(learning_rate=1e-4)\n",
    "\n",
    "model.compile(\n",
    "    optimizer = optimizer,\n",
    "    loss = \"categorical_crossentropy\",\n",
    "    metrics = [\"accuracy\"]\n",
    ")\n",
    "\n",
    "\n",
    "\n",
    "\n",
    "# images, labels = next(iter(train_preprocessed))\n",
    "\n",
    "# x_image, y_image = X[0], y[0]\n",
    "\n",
    "\n",
    "# print(y_image)\n",
    "# plt.imshow(x_image.astype(\"uint8\"))\n",
    "# plt.axis(\"off\")\n",
    "\n",
    "# x_image = np.expand_dims(x_image, axis=0)\n",
    "# images = np.expand_dims(images, axis=0)\n",
    "\n",
    "# print(images.shape, \" \", labels.shape)\n",
    "\n",
    "# plt.imshow(images.numpy().astype(\"uint8\"))\n",
    "\n",
    "# _image = image.img_to_array(images)\n",
    "\n",
    "# print(_image.shape)\n",
    "\n",
    "# y_pred = model.predict(images)\n",
    "\n",
    "# print(labels)\n",
    "# print(np.argmax(y_pred))\n",
    "\n",
    "model.summary()\n",
    "\n",
    "# model.predict(images)\n",
    "\n",
    "# y_pred = model.predict(images)\n",
    "# print(y_pred)\n",
    "\n",
    "# for image, label in preprocessed.take(1):\n",
    "#     print(\"Label: \", label.numpy())\n",
    "#     print(\"Image shape: \", image.numpy().shape)\n",
    "#     plt.imshow(image.numpy().astype(\"uint8\"))\n",
    "#     plt.axis(\"off\")\n",
    "# import time\n",
    "\n",
    "# start_time = time.perf_counter()\n",
    "# for epoch_num in range(2):\n",
    "#     for sample in dataset:\n",
    "#         # Performing a training step\n",
    "#         time.sleep(0.01)\n",
    "# print(\"Execution time:\", time.perf_counter() - start_time)\n",
    "    \n",
    "#     print(type(images[0]))\n",
    "#     image = keras.applications.vgg16.preprocess_input(images[1])\n",
    "#     print(type(image))\n",
    "    \n",
    "\n",
    "\n",
    "# keras.applications.vgg16.preprocess_input(X_train)\n",
    "\n",
    "\n",
    "# path = \"/Users/felixgerschner/git/ai-prototype/data/source/caltech101\"\n",
    "# load_local_dataset_tf(path, target_size=TARGET_SIZE)\n",
    "\n",
    "\n",
    "# class_names = data.class_names\n",
    "# print(class_names)\n",
    "\n",
    "# for images, labels in data.take(1):\n",
    "#     print(images.shape, \" \", labels.shape)\n",
    " \n",
    "#     print(labels[0])\n",
    "#     plt.imshow(images[10].numpy().astype(\"uint8\"))\n",
    "#     plt.axis(\"off\")\n",
    "\n",
    "\n",
    "# X, y = load_local_dataset(path, img_format, target_size=TARGET_SIZE)\n"
   ]
  },
  {
   "cell_type": "code",
   "execution_count": null,
   "metadata": {},
   "outputs": [],
   "source": []
  },
  {
   "cell_type": "code",
   "execution_count": null,
   "metadata": {},
   "outputs": [],
   "source": [
    "hist = model.fit(\n",
    "        train,\n",
    "        epochs=2,\n",
    "        validation_data=test,\n",
    "        verbose=True,\n",
    "    )\n",
    "\n",
    "print(hist.history)"
   ]
  },
  {
   "cell_type": "code",
   "execution_count": null,
   "metadata": {},
   "outputs": [],
   "source": [
    "for layer in model.layers:\n",
    "    print(layer.name, \" \", layer.trainable)"
   ]
  },
  {
   "cell_type": "code",
   "execution_count": null,
   "metadata": {},
   "outputs": [],
   "source": [
    "model.layers[-4].name\n",
    "\n",
    "test_input = test_preprocessed.take(1)\n",
    "\n",
    "model.predict(test_input)"
   ]
  },
  {
   "cell_type": "code",
   "execution_count": null,
   "metadata": {},
   "outputs": [],
   "source": [
    "from sklearn.metrics import accuracy_score\n",
    "\n",
    "image, label = next(iter(test_preprocessed))\n",
    "\n",
    "y_pred = model.predict(np.expand_dims(image[0], axis=0))\n",
    "\n",
    "\n",
    "pred = np.argmax(y_pred, axis=1)\n",
    "\n",
    "\n",
    "acc = accuracy_score([1], pred)\n",
    "print(acc)\n",
    "\n",
    "print(np.argmax(label, axis=1))\n",
    "print(pred)\n",
    "print(image[0].shape)\n",
    "print(len(image[0].shape))\n",
    "print(y_pred)\n",
    "classes"
   ]
  },
  {
   "cell_type": "code",
   "execution_count": null,
   "metadata": {},
   "outputs": [],
   "source": [
    "plt.imshow(image[0].numpy().astype(\"uint8\"))\n",
    "plt.axis(\"off\")"
   ]
  },
  {
   "cell_type": "code",
   "execution_count": null,
   "metadata": {},
   "outputs": [],
   "source": [
    "y = np.concatenate([y for x, y in test_preprocessed], axis=0)\n",
    "\n",
    "print(y)"
   ]
  },
  {
   "cell_type": "code",
   "execution_count": null,
   "metadata": {},
   "outputs": [],
   "source": [
    "# data = tf.keras.utils.image_dataset_from_directory(\n",
    "#   path,\n",
    "#   validation_split=0.2,\n",
    "#   subset=\"training\",\n",
    "#   seed=123,\n",
    "#   image_size=TARGET_SIZE,\n",
    "#   batch_size=BATCH_SIZE,\n",
    "#   interpolation=\"area\"\n",
    "# )\n",
    "\n",
    "\n",
    "# for images, labels in data.take(1):\n",
    "#     print(images.shape, \" \", labels.shape)\n",
    " \n",
    "#     print(labels[1])\n",
    "#     plt.imshow(images[0].numpy().astype(\"uint8\"))\n",
    "#     plt.axis(\"off\")\n"
   ]
  },
  {
   "cell_type": "code",
   "execution_count": null,
   "metadata": {},
   "outputs": [],
   "source": [
    "# plt.imshow(X[4].astype(\"uint8\"))\n",
    "# plt.axis(\"off\")\n",
    "# X[4].shape"
   ]
  },
  {
   "cell_type": "code",
   "execution_count": null,
   "metadata": {},
   "outputs": [],
   "source": [
    "# from models.tf_models.VGG16_model import VGG16_model\n",
    "\n",
    "\n",
    "# model = VGG16_model(\"imagenet\", input_shape=(350, 350, 3), \n",
    "#                 num_classes=2, build_pre_model=True)\n",
    "\n",
    "# model.fit_and_save_pre_model(X, y)"
   ]
  },
  {
   "cell_type": "code",
   "execution_count": null,
   "metadata": {},
   "outputs": [],
   "source": []
  },
  {
   "cell_type": "code",
   "execution_count": null,
   "metadata": {},
   "outputs": [],
   "source": []
  },
  {
   "cell_type": "code",
   "execution_count": null,
   "metadata": {},
   "outputs": [],
   "source": [
    "# from models.tf_models.ResNet101_model import ResNet101_model\n",
    "\n",
    "\n",
    "# model = ResNet101_model(\"imagenet\", input_shape=(350, 350, 3), \n",
    "#                 num_classes=2, build_pre_model=True)\n",
    "\n",
    "# model.fit_and_save_pre_model(X, y)"
   ]
  },
  {
   "cell_type": "code",
   "execution_count": null,
   "metadata": {},
   "outputs": [],
   "source": [
    "# from models.tf_models.DenseNet121_model import DenseNet121_model\n",
    "\n",
    "\n",
    "# model = DenseNet121_model(\"imagenet\", input_shape=(350, 350, 3), \n",
    "#                 num_classes=2, build_pre_model=True)\n",
    "\n",
    "# model.fit_and_save_pre_model(X, y)"
   ]
  },
  {
   "cell_type": "code",
   "execution_count": null,
   "metadata": {},
   "outputs": [],
   "source": [
    "# from models.tf_models.MobileNet_model import MobileNet_model\n",
    "\n",
    "\n",
    "# model = MobileNet_model(\"mechanicalseal_fulllight\", input_shape=(350, 350, 3), \n",
    "#                 num_classes=2, build_pre_model=True)\n",
    "\n",
    "# model.fit_and_save_pre_model(X, y)"
   ]
  },
  {
   "cell_type": "code",
   "execution_count": null,
   "metadata": {},
   "outputs": [],
   "source": [
    "# import matplotlib.pyplot as plt\n",
    "\n",
    "# plt.imshow(X[2], cmap=\"binary\")\n",
    "# plt.show()"
   ]
  },
  {
   "cell_type": "code",
   "execution_count": null,
   "metadata": {},
   "outputs": [],
   "source": [
    "# from tensorflow.keras.applications.vgg16 import VGG16\n",
    "\n",
    "# model = VGG16(weights=\"imagenet\", include_top=True)\n",
    "\n",
    "# model.summary()"
   ]
  },
  {
   "cell_type": "code",
   "execution_count": null,
   "metadata": {},
   "outputs": [],
   "source": []
  },
  {
   "cell_type": "code",
   "execution_count": null,
   "metadata": {},
   "outputs": [],
   "source": [
    "# import tensorflow as tf \n",
    "\n",
    "\n",
    "# from sklearn.model_selection import train_test_split\n",
    "\n",
    "# # custom\n",
    "# from utils.utils import load_local_dataset, load_local_dataset_train_test, preload_from_directory_old\n",
    "\n",
    "# path = \"/Users/felixgerschner/git/ai-prototype/data/source/miniimagenet\" # CRASHES KERNEL\n",
    "# path = \"/Users/felixgerschner/git/ai-prototype/data/source/caltech101\" # Works\n",
    "# path = \"/Users/felixgerschner/git/ai-prototype/data/source/dagm\" # Works\n",
    "# path = \"/Users/felixgerschner/git/ai-prototype/data/target/mechanicalseals_fulllight\" # Works\n",
    "\n",
    "# X, y = load_local_dataset(path, \".JPEG\", input_shape=None) # CRASHES KERNEL\n",
    "# X, y = load_local_dataset(path, \".jpg\", input_shape=(350, 350))\n",
    "# X, y = load_local_dataset(path, \".PNG\", input_shape=(350, 350))\n",
    "# X, y = load_local_dataset(path, \".png\", input_shape=(350, 350))\n",
    "# X_train, y_train, X_test, y_test = load_local_dataset_train_test(path, \".png\", input_shape=(350, 350))\n",
    "\n"
   ]
  },
  {
   "cell_type": "code",
   "execution_count": null,
   "metadata": {},
   "outputs": [],
   "source": [
    "# X.shape\n",
    "# X_train.shape, \" \", X_test.shape"
   ]
  },
  {
   "cell_type": "code",
   "execution_count": null,
   "metadata": {},
   "outputs": [],
   "source": []
  },
  {
   "cell_type": "code",
   "execution_count": null,
   "metadata": {},
   "outputs": [],
   "source": [
    "# import matplotlib.pyplot as plt\n",
    "\n",
    "# plt.imshow(X[2523].astype(\"uint8\"))\n",
    "# plt.show()\n",
    "# y[2523]"
   ]
  },
  {
   "cell_type": "code",
   "execution_count": 7,
   "metadata": {},
   "outputs": [
    {
     "name": "stdout",
     "output_type": "stream",
     "text": [
      "   a  b  c\n",
      "0  1  2  3\n"
     ]
    }
   ],
   "source": [
    "import pandas as pd\n",
    "\n",
    "\n",
    "df = pd.DataFrame(columns=[\"a\", \"b\", \"c\"], data=[[1, 2, 3]])\n",
    "print(df)"
   ]
  },
  {
   "cell_type": "code",
   "execution_count": 10,
   "metadata": {},
   "outputs": [
    {
     "data": {
      "text/plain": [
       "(3,)"
      ]
     },
     "execution_count": 10,
     "metadata": {},
     "output_type": "execute_result"
    }
   ],
   "source": [
    "df.to_numpy()[0].shape"
   ]
  },
  {
   "cell_type": "code",
   "execution_count": 12,
   "metadata": {},
   "outputs": [
    {
     "name": "stdout",
     "output_type": "stream",
     "text": [
      "[array([1, 2, 3]), array([1, 2, 3])]\n"
     ]
    }
   ],
   "source": [
    "liste = []\n",
    "\n",
    "liste.append(df.to_numpy()[0])\n",
    "liste.append(df.to_numpy()[0])\n",
    "\n",
    "print(liste)"
   ]
  },
  {
   "cell_type": "code",
   "execution_count": 13,
   "metadata": {},
   "outputs": [],
   "source": [
    "df_new = pd.DataFrame(columns=[\"a\", \"b\", \"c\"], data=liste)"
   ]
  },
  {
   "cell_type": "code",
   "execution_count": 14,
   "metadata": {},
   "outputs": [
    {
     "data": {
      "text/html": [
       "<div>\n",
       "<style scoped>\n",
       "    .dataframe tbody tr th:only-of-type {\n",
       "        vertical-align: middle;\n",
       "    }\n",
       "\n",
       "    .dataframe tbody tr th {\n",
       "        vertical-align: top;\n",
       "    }\n",
       "\n",
       "    .dataframe thead th {\n",
       "        text-align: right;\n",
       "    }\n",
       "</style>\n",
       "<table border=\"1\" class=\"dataframe\">\n",
       "  <thead>\n",
       "    <tr style=\"text-align: right;\">\n",
       "      <th></th>\n",
       "      <th>a</th>\n",
       "      <th>b</th>\n",
       "      <th>c</th>\n",
       "    </tr>\n",
       "  </thead>\n",
       "  <tbody>\n",
       "    <tr>\n",
       "      <th>0</th>\n",
       "      <td>1</td>\n",
       "      <td>2</td>\n",
       "      <td>3</td>\n",
       "    </tr>\n",
       "    <tr>\n",
       "      <th>1</th>\n",
       "      <td>1</td>\n",
       "      <td>2</td>\n",
       "      <td>3</td>\n",
       "    </tr>\n",
       "  </tbody>\n",
       "</table>\n",
       "</div>"
      ],
      "text/plain": [
       "   a  b  c\n",
       "0  1  2  3\n",
       "1  1  2  3"
      ]
     },
     "execution_count": 14,
     "metadata": {},
     "output_type": "execute_result"
    }
   ],
   "source": [
    "df_new"
   ]
  },
  {
   "cell_type": "code",
   "execution_count": null,
   "metadata": {},
   "outputs": [],
   "source": []
  }
 ],
 "metadata": {
  "kernelspec": {
   "display_name": "Python 3",
   "language": "python",
   "name": "python3"
  },
  "language_info": {
   "codemirror_mode": {
    "name": "ipython",
    "version": 3
   },
   "file_extension": ".py",
   "mimetype": "text/x-python",
   "name": "python",
   "nbconvert_exporter": "python",
   "pygments_lexer": "ipython3",
   "version": "3.10.8"
  },
  "orig_nbformat": 4,
  "vscode": {
   "interpreter": {
    "hash": "7a1586fa20ae7adda0123f353fb2992b7c692c0cb0bab9f479772660986f9846"
   }
  }
 },
 "nbformat": 4,
 "nbformat_minor": 2
}
